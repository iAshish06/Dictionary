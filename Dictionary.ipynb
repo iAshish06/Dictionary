{
 "cells": [
  {
   "cell_type": "code",
   "execution_count": 21,
   "metadata": {},
   "outputs": [
    {
     "name": "stdout",
     "output_type": "stream",
     "text": [
      "1. The distinguishing peculiarity of male or female in both animals and plants; the physical difference between male and female; the assemblage of properties or qualities by which male is distinguished from female. 2. One of the two divisions of organic beings formed on the distinction of male and female. 3. (Bot.) (a) The capability in plants of fertilizing or of being fertilized; as, staminate and pistillate flowers are of opposite sexes. (b) One of the groups founded on this distinction. The sex, the female sex; women, in general.\n"
     ]
    }
   ],
   "source": [
    "import json\n",
    "import difflib  #python library to compare text\n",
    "from difflib import SequenceMatcher as sm   #For comparing text in case of user enter wrong text\n",
    "from difflib import get_close_matches as gcm \n",
    "\n",
    "data_file=open('data.json')\n",
    "data1 = json.load(data_file)    #Loading Json file and it can be written as data=json.load(open(filepath.json)) as well\n",
    "def translate(word):    #Translation\n",
    "    word=word.lower()      #Since Dictionary contains words in only lower format so we have to transform user input in lower case as well\n",
    "    if word in data1:\n",
    "        return data1[word]\n",
    "    elif len(gcm(word,data1.keys()))>0:\n",
    "        yn=input('Did you mean %s instead? Enter Y if yes or N if no' % gcm(word,data1.keys())[0])      # if user mistakenly entred wrong word\n",
    "        if yn =='Y':\n",
    "            return data1[gcm(word,data1.keys())[0]]     #If yes then print the meaning of right word\n",
    "        elif yn=='N':\n",
    "            return ('Word not found')\n",
    "        else:\n",
    "            return('We did not understood your query. Try again.')\n",
    "    else:\n",
    "        return ('word not found')   #If word not found \n",
    "    \n",
    "\n",
    "word = input('Enter word: ')\n",
    "output = translate(word)\n",
    "if output == list:\n",
    "    for item in output:     #For loop to get output without commas and brackets as it is stored in json file like that\n",
    "        print(item)\n",
    "else:\n",
    "    print(output)\n"
   ]
  }
 ],
 "metadata": {
  "interpreter": {
   "hash": "2076a387d2eeee7d098e4cccefb973249bebb4fa144919220ce31f67b8bf2cb5"
  },
  "kernelspec": {
   "display_name": "Python 3.9.12 ('base')",
   "language": "python",
   "name": "python3"
  },
  "language_info": {
   "codemirror_mode": {
    "name": "ipython",
    "version": 3
   },
   "file_extension": ".py",
   "mimetype": "text/x-python",
   "name": "python",
   "nbconvert_exporter": "python",
   "pygments_lexer": "ipython3",
   "version": "3.9.12"
  },
  "orig_nbformat": 4
 },
 "nbformat": 4,
 "nbformat_minor": 2
}
